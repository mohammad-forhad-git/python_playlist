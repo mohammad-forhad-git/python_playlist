{
 "cells": [
  {
   "cell_type": "code",
   "execution_count": 3,
   "id": "4dec1eca-a4e7-4bc6-a8e4-7ffecb8665f5",
   "metadata": {},
   "outputs": [
    {
     "name": "stdin",
     "output_type": "stream",
     "text": [
      "input the first digit: 44\n",
      "input the second number: 66\n"
     ]
    },
    {
     "name": "stdout",
     "output_type": "stream",
     "text": [
      "110\n",
      "2904\n",
      "-22\n",
      "0.6666666666666666\n"
     ]
    }
   ],
   "source": [
    "x=int(input(\"input the first digit:\"))\n",
    "y=int(input(\"input the second number:\"))\n",
    "\n",
    "sum=x+y\n",
    "print(sum)\n",
    "mul=x*y\n",
    "print(mul)\n",
    "sub=x-y\n",
    "print(sub)\n",
    "div=x/y\n",
    "print(div)"
   ]
  },
  {
   "cell_type": "code",
   "execution_count": null,
   "id": "ab5abfe8-b5ae-467d-857b-05255257854b",
   "metadata": {},
   "outputs": [],
   "source": []
  }
 ],
 "metadata": {
  "kernelspec": {
   "display_name": "Python 3 (ipykernel)",
   "language": "python",
   "name": "python3"
  },
  "language_info": {
   "codemirror_mode": {
    "name": "ipython",
    "version": 3
   },
   "file_extension": ".py",
   "mimetype": "text/x-python",
   "name": "python",
   "nbconvert_exporter": "python",
   "pygments_lexer": "ipython3",
   "version": "3.13.3"
  }
 },
 "nbformat": 4,
 "nbformat_minor": 5
}
