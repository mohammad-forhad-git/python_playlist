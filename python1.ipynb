{
 "cells": [
  {
   "cell_type": "code",
   "execution_count": null,
   "id": "b45a5213-a77c-490b-b2cf-77d283891657",
   "metadata": {},
   "outputs": [
    {
     "name": "stdout",
     "output_type": "stream",
     "text": [
      "What's your name?  \"forhad\"\n"
     ]
    },
    {
     "name": "stdout",
     "output_type": "stream",
     "text": [
      "Hello, \"forhad\"!\n"
     ]
    }
   ],
   "source": [
    "name = input(\"What's your name? \")\n",
    "print(\"Hello, \" + name + \"!\")#string concatenetion"
   ]
  },
  {
   "cell_type": "code",
   "execution_count": null,
   "id": "0280b493-e6b0-48ed-890b-c006bdf25394",
   "metadata": {},
   "outputs": [
    {
     "name": "stdout",
     "output_type": "stream",
     "text": [
      " 77\n"
     ]
    }
   ],
   "source": [
    "x=input()"
   ]
  },
  {
   "cell_type": "code",
   "execution_count": null,
   "id": "4e52a633-fe47-40d6-bd82-ac5e703ba49e",
   "metadata": {},
   "outputs": [
    {
     "name": "stdout",
     "output_type": "stream",
     "text": [
      "77\n"
     ]
    }
   ],
   "source": [
    "print(x)\n"
   ]
  },
  {
   "cell_type": "code",
   "execution_count": null,
   "id": "c3897442-a492-4205-9cd7-d339e43087b6",
   "metadata": {},
   "outputs": [
    {
     "name": "stdout",
     "output_type": "stream",
     "text": [
      "122\n"
     ]
    }
   ],
   "source": [
    "y=45\n",
    "print(int(x)+int(y))"
   ]
  },
  {
   "cell_type": "code",
   "execution_count": null,
   "id": "f893ed6f-4213-4c59-b9d7-91c3bccab368",
   "metadata": {},
   "outputs": [],
   "source": [
    "name1='forhad'"
   ]
  },
  {
   "cell_type": "code",
   "execution_count": null,
   "id": "ef5c3746-9e2d-4d43-9b63-393ffc9368a4",
   "metadata": {},
   "outputs": [
    {
     "name": "stdout",
     "output_type": "stream",
     "text": [
      "hi--forhad#"
     ]
    }
   ],
   "source": [
    "print(\"hi\" , name1,sep='--',end='#')#seperation and end"
   ]
  },
  {
   "cell_type": "code",
   "execution_count": null,
   "id": "a8081101-342e-4cf9-8008-24c3abc02883",
   "metadata": {},
   "outputs": [],
   "source": [
    "_var =55"
   ]
  },
  {
   "cell_type": "code",
   "execution_count": null,
   "id": "97103463-f458-49d8-8651-43a41c16c930",
   "metadata": {},
   "outputs": [],
   "source": [
    "_var2=33"
   ]
  },
  {
   "cell_type": "code",
   "execution_count": null,
   "id": "09a77f84-31c2-4ae2-a02e-0564ab8e46a3",
   "metadata": {},
   "outputs": [],
   "source": [
    "sum= _var+_var2"
   ]
  },
  {
   "cell_type": "code",
   "execution_count": null,
   "id": "5e5f8692-e69d-42be-b683-9054c098ff62",
   "metadata": {},
   "outputs": [
    {
     "name": "stdout",
     "output_type": "stream",
     "text": [
      "88\n"
     ]
    }
   ],
   "source": [
    "print(sum)"
   ]
  },
  {
   "cell_type": "code",
   "execution_count": null,
   "id": "1088ce1d-4c8e-4f60-b512-7176855d20f5",
   "metadata": {
    "collapsed": true,
    "jupyter": {
     "outputs_hidden": true,
     "source_hidden": true
    }
   },
   "outputs": [
    {
     "name": "stdout",
     "output_type": "stream",
     "text": [
      "forhadhi\n"
     ]
    }
   ],
   "source": [
    "continu ='forhad'#[python keyword](https://www.programiz.com/python-programming/keyword-list)\n",
    "\n",
    "brea ='hi'\n",
    "print(continu+brea)\n"
   ]
  },
  {
   "cell_type": "code",
   "execution_count": null,
   "id": "dee45111-b1a5-4143-bbf4-fc21637486cd",
   "metadata": {},
   "outputs": [],
   "source": [
    "def myfunc():\n",
    " h=100#here h is local variable\n",
    " print(h)"
   ]
  },
  {
   "cell_type": "code",
   "execution_count": null,
   "id": "0cffd41c-adda-4213-9d7b-9664fea1a1fc",
   "metadata": {},
   "outputs": [
    {
     "name": "stdout",
     "output_type": "stream",
     "text": [
      "100\n"
     ]
    }
   ],
   "source": [
    "myfunc()"
   ]
  },
  {
   "cell_type": "code",
   "execution_count": null,
   "id": "e421aeff-a109-49f6-9286-ae936366608a",
   "metadata": {},
   "outputs": [],
   "source": [
    "def func():\n",
    "    global i\n",
    "    i=100#here i is global variable\n",
    "    print(i)"
   ]
  },
  {
   "cell_type": "code",
   "execution_count": null,
   "id": "70b90497-0594-41b6-b256-4dc84f2ae40b",
   "metadata": {},
   "outputs": [
    {
     "name": "stdout",
     "output_type": "stream",
     "text": [
      "100\n"
     ]
    }
   ],
   "source": [
    "func()"
   ]
  },
  {
   "cell_type": "markdown",
   "id": "83dc673b-c618-4fba-9530-a16b4922d615",
   "metadata": {},
   "source": [
    "String"
   ]
  },
  {
   "cell_type": "markdown",
   "id": "ca9894f3-c450-491d-a54d-b1cb864b30e8",
   "metadata": {},
   "source": [
    "string \n",
    "Method\tDescription\n",
    "capitalize()\tConverts the first character to upper case\n",
    "casefold()\tConverts string into lower case\n",
    "center()\tReturns a centered string\n",
    "count()\tReturns the number of times a specified value occurs in a string\n",
    "encode()\tReturns an encoded version of the string\n",
    "endswith()\tReturns true if the string ends with the specified value\n",
    "expandtabs()\tSets the tab size of the string\n",
    "find()\tSearches the string for a specified value and returns the position of where it was found\n",
    "format()\tFormats specified values in a string\n",
    "format_map()\tFormats specified values in a string\n",
    "index()\tSearches the string for a specified value and returns the position of where it was found\n",
    "isalnum()\tReturns True if all characters in the string are alphanumeric\n",
    "isalpha()\tReturns True if all characters in the string are in the alphabet\n",
    "isascii()\tReturns True if all characters in the string are ascii characters\n",
    "isdecimal()\tReturns True if all characters in the string are decimals\n",
    "isdigit()\tReturns True if all characters in the string are digits\n",
    "isidentifier()\tReturns True if the string is an identifier\n",
    "islower()\tReturns True if all characters in the string are lower case\n",
    "isnumeric()\tReturns True if all characters in the string are numeric\n",
    "isprintable()\tReturns True if all characters in the string are printable\n",
    "isspace()\tReturns True if all characters in the string are whitespaces\n",
    "istitle()\tReturns True if the string follows the rules of a title\n",
    "isupper()\tReturns True if all characters in the string are upper case\n",
    "join()\tConverts the elements of an iterable into a string\n",
    "ljust()\tReturns a left justified version of the string\n",
    "lower()\tConverts a string into lower case\n",
    "lstrip()\tReturns a left trim version of the string\n",
    "maketrans()\tReturns a translation table to be used in translations\n",
    "partition()\tReturns a tuple where the string is parted into three parts\n",
    "replace()\tReturns a string where a specified value is replaced with a specified value\n",
    "rfind()\tSearches the string for a specified value and returns the last position of where it was found\n",
    "rindex()\tSearches the string for a specified value and returns the last position of where it was found\n",
    "rjust()\tReturns a right justified version of the string\n",
    "rpartition()\tReturns a tuple where the string is parted into three parts \n",
    "rsplit()\tSplits the string at the specified separator, and returns a list\n",
    "rstrip()\tReturns a right trim version of the string\n",
    "split()\tSplits the string at the specified separator, and returns a list\n",
    "splitlines()\tSplits the string at line breaks and returns a list\n",
    "startswith()\tReturns true if the string starts with the specified value\n",
    "strip()\tReturns a trimmed version of the string\n",
    "swapcase()\tSwaps cases, lower case becomes upper case and vice versa\n",
    "title()\tConverts the first character of each word to upper case\n",
    "translate()\tReturns a translated string\n",
    "upper()\tConverts a string into upper case\n",
    "zfill()\tFills the string with a specified number of 0 values at the beginning"
   ]
  },
  {
   "cell_type": "code",
   "execution_count": null,
   "id": "528bacf3-1dac-4008-906b-ed83e95123c8",
   "metadata": {},
   "outputs": [],
   "source": []
  },
  {
   "cell_type": "code",
   "execution_count": null,
   "id": "aadd3484-7b74-461b-b122-ca2d51ee0e99",
   "metadata": {},
   "outputs": [
    {
     "data": {
      "text/plain": [
       "108"
      ]
     },
     "execution_count": 24,
     "metadata": {},
     "output_type": "execute_result"
    }
   ],
   "source": [
    "i+8"
   ]
  },
  {
   "cell_type": "markdown",
   "id": "92eb638b-0e07-4a40-a25a-9c32d325241f",
   "metadata": {},
   "source": []
  },
  {
   "cell_type": "code",
   "execution_count": null,
   "id": "6de8eb5b-be97-4154-b660-1f2404829fe3",
   "metadata": {},
   "outputs": [],
   "source": []
  }
 ],
 "metadata": {
  "kernelspec": {
   "display_name": "Python 3 (ipykernel)",
   "language": "python",
   "name": "python3"
  },
  "language_info": {
   "codemirror_mode": {
    "name": "ipython",
    "version": 3
   },
   "file_extension": ".py",
   "mimetype": "text/x-python",
   "name": "python",
   "nbconvert_exporter": "python",
   "pygments_lexer": "ipython3",
   "version": "3.13.3"
  }
 },
 "nbformat": 4,
 "nbformat_minor": 5
}
